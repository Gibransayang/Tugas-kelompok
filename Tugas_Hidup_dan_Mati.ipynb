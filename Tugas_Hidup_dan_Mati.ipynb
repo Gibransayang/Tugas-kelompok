{
  "nbformat": 4,
  "nbformat_minor": 0,
  "metadata": {
    "colab": {
      "name": "Tugas Hidup dan Mati.ipynb",
      "provenance": [],
      "authorship_tag": "ABX9TyOJNPiPLRYUY8cDru2T4ad1",
      "include_colab_link": true
    },
    "kernelspec": {
      "name": "python3",
      "display_name": "Python 3"
    },
    "language_info": {
      "name": "python"
    }
  },
  "cells": [
    {
      "cell_type": "markdown",
      "metadata": {
        "id": "view-in-github",
        "colab_type": "text"
      },
      "source": [
        "<a href=\"https://colab.research.google.com/github/Gibransayang/Tugas-kelompok/blob/main/Tugas_Hidup_dan_Mati.ipynb\" target=\"_parent\"><img src=\"https://colab.research.google.com/assets/colab-badge.svg\" alt=\"Open In Colab\"/></a>"
      ]
    },
    {
      "cell_type": "code",
      "metadata": {
        "id": "eAfynAQhs9GP"
      },
      "source": [
        "\n",
        "import pandas as pd\n",
        "import numpy as np\n",
        "import seaborn as sns\n",
        "import matplotlib.pyplot as plt\n",
        "from sklearn.cluster import KMeans\n",
        "from sklearn.manifold import TSNE"
      ],
      "execution_count": null,
      "outputs": []
    },
    {
      "cell_type": "code",
      "metadata": {
        "colab": {
          "base_uri": "https://localhost:8080/"
        },
        "id": "okwzdAK5tJ-k",
        "outputId": "ae63960a-bfd2-4a64-e7f6-b4a71e3db3d3"
      },
      "source": [
        "url = 'https://raw.githubusercontent.com/kokocamp/vlog101/master/vlog101.csv'\n",
        "vlog128 = pd.read_csv(url)\n",
        "vlog128.info()"
      ],
      "execution_count": null,
      "outputs": [
        {
          "output_type": "stream",
          "name": "stdout",
          "text": [
            "<class 'pandas.core.frame.DataFrame'>\n",
            "RangeIndex: 200 entries, 0 to 199\n",
            "Data columns (total 5 columns):\n",
            " #   Column                Non-Null Count  Dtype \n",
            "---  ------                --------------  ----- \n",
            " 0   CustomerID            200 non-null    int64 \n",
            " 1   Sex                   200 non-null    object\n",
            " 2   Usia                  200 non-null    int64 \n",
            " 3   Gaji (juta)           200 non-null    int64 \n",
            " 4   Skor Belanja (1-100)  200 non-null    int64 \n",
            "dtypes: int64(4), object(1)\n",
            "memory usage: 7.9+ KB\n"
          ]
        }
      ]
    },
    {
      "cell_type": "code",
      "metadata": {
        "colab": {
          "base_uri": "https://localhost:8080/",
          "height": 297
        },
        "id": "ffcsdKc0tflz",
        "outputId": "b13f2113-cf2c-40d3-8561-78ea215abd3e"
      },
      "source": [
        "X = vlog128[['Usia','Gaji (juta)']]\n",
        "y = vlog128['Skor Belanja (1-100)']\n",
        "sns.scatterplot(x=\"Usia\",y=\"Gaji (juta)\",data=vlog128,color=\"red\",alpha=0.5)"
      ],
      "execution_count": null,
      "outputs": [
        {
          "output_type": "execute_result",
          "data": {
            "text/plain": [
              "<matplotlib.axes._subplots.AxesSubplot at 0x7f55b6d370d0>"
            ]
          },
          "metadata": {},
          "execution_count": 6
        },
        {
          "output_type": "display_data",
          "data": {
            "image/png": "[encoded data removed]",
            "text/plain": [
              "<Figure size 432x288 with 1 Axes>"
            ]
          },
          "metadata": {
            "needs_background": "light"
          }
        }
      ]
    },
    {
      "cell_type": "code",
      "metadata": {
        "colab": {
          "base_uri": "https://localhost:8080/"
        },
        "id": "Kwr_hSzDtsOa",
        "outputId": "01e28107-b89a-4617-8046-c4c1ad2ebf38"
      },
      "source": [
        "n_random = 0\n",
        "n_kom = 2\n",
        "perplex = 50\n",
        "X = np.array(X)\n",
        "tsne = TSNE(n_components=n_kom, perplexity=perplex).fit_transform(X)\n",
        "#print(tsne)\n",
        "\n",
        "n_clusters = 5\n",
        "kmeans = KMeans(n_clusters)\n",
        "kmeans.fit(X)\n",
        "print(kmeans.cluster_centers_)\n",
        "\n",
        "nc = []\n",
        "for i in range(n_clusters):\n",
        "  nc.append(i)"
      ],
      "execution_count": null,
      "outputs": [
        {
          "output_type": "stream",
          "name": "stderr",
          "text": [
            "/usr/local/lib/python3.7/dist-packages/sklearn/manifold/_t_sne.py:783: FutureWarning: The default initialization in TSNE will change from 'random' to 'pca' in 1.2.\n",
            "  FutureWarning,\n",
            "/usr/local/lib/python3.7/dist-packages/sklearn/manifold/_t_sne.py:793: FutureWarning: The default learning rate in TSNE will change from 200.0 to 'auto' in 1.2.\n",
            "  FutureWarning,\n"
          ]
        },
        {
          "output_type": "stream",
          "name": "stdout",
          "text": [
            "[[ 30.21428571  27.07142857]\n",
            " [ 25.06451613  59.48387097]\n",
            " [ 37.45454545  78.72727273]\n",
            " [ 56.38461538  50.13461538]\n",
            " [ 36.6        109.7       ]]\n"
          ]
        }
      ]
    },
    {
      "cell_type": "code",
      "metadata": {
        "colab": {
          "base_uri": "https://localhost:8080/",
          "height": 312
        },
        "id": "7RSnzhDvuVfC",
        "outputId": "4af62e6e-b195-4359-f844-89a36f1c78fb"
      },
      "source": [
        "print(kmeans.labels_)\n",
        "vlog128[\"kluster\"] = kmeans.labels_\n",
        "vlog128.head()\n"
      ],
      "execution_count": null,
      "outputs": [
        {
          "output_type": "stream",
          "name": "stdout",
          "text": [
            "[0 0 0 0 0 0 0 0 3 0 3 0 0 0 0 0 0 0 0 0 0 0 0 0 3 0 0 0 0 0 3 0 3 0 3 0 0\n",
            " 0 0 0 3 0 3 0 3 0 3 0 0 0 3 0 0 3 3 3 3 3 1 3 3 1 3 3 3 1 3 3 1 1 3 3 3 3\n",
            " 3 1 3 1 1 3 3 1 3 3 1 3 3 1 1 3 3 1 3 1 1 1 3 1 3 1 1 3 3 1 3 1 3 3 3 3 3\n",
            " 1 1 1 1 1 3 3 3 2 1 2 2 2 1 2 2 2 3 2 2 2 1 2 1 2 2 2 1 2 2 2 2 2 2 2 2 2\n",
            " 2 2 2 2 2 2 2 2 2 2 2 2 2 2 2 2 2 2 2 2 2 2 2 2 2 2 2 2 2 2 2 2 4 4 4 4 4\n",
            " 4 4 4 4 4 4 4 4 4 4 4 4 4 4 4]\n"
          ]
        },
        {
          "output_type": "execute_result",
          "data": {
            "text/html": [
              "<div>\n",
              "<style scoped>\n",
              "    .dataframe tbody tr th:only-of-type {\n",
              "        vertical-align: middle;\n",
              "    }\n",
              "\n",
              "    .dataframe tbody tr th {\n",
              "        vertical-align: top;\n",
              "    }\n",
              "\n",
              "    .dataframe thead th {\n",
              "        text-align: right;\n",
              "    }\n",
              "</style>\n",
              "<table border=\"1\" class=\"dataframe\">\n",
              "  <thead>\n",
              "    <tr style=\"text-align: right;\">\n",
              "      <th></th>\n",
              "      <th>CustomerID</th>\n",
              "      <th>Sex</th>\n",
              "      <th>Usia</th>\n",
              "      <th>Gaji (juta)</th>\n",
              "      <th>Skor Belanja (1-100)</th>\n",
              "      <th>kluster</th>\n",
              "    </tr>\n",
              "  </thead>\n",
              "  <tbody>\n",
              "    <tr>\n",
              "      <th>0</th>\n",
              "      <td>1</td>\n",
              "      <td>Pria</td>\n",
              "      <td>19</td>\n",
              "      <td>15</td>\n",
              "      <td>39</td>\n",
              "      <td>0</td>\n",
              "    </tr>\n",
              "    <tr>\n",
              "      <th>1</th>\n",
              "      <td>2</td>\n",
              "      <td>Pria</td>\n",
              "      <td>21</td>\n",
              "      <td>15</td>\n",
              "      <td>81</td>\n",
              "      <td>0</td>\n",
              "    </tr>\n",
              "    <tr>\n",
              "      <th>2</th>\n",
              "      <td>3</td>\n",
              "      <td>Wanita</td>\n",
              "      <td>20</td>\n",
              "      <td>16</td>\n",
              "      <td>6</td>\n",
              "      <td>0</td>\n",
              "    </tr>\n",
              "    <tr>\n",
              "      <th>3</th>\n",
              "      <td>4</td>\n",
              "      <td>Wanita</td>\n",
              "      <td>23</td>\n",
              "      <td>16</td>\n",
              "      <td>77</td>\n",
              "      <td>0</td>\n",
              "    </tr>\n",
              "    <tr>\n",
              "      <th>4</th>\n",
              "      <td>5</td>\n",
              "      <td>Wanita</td>\n",
              "      <td>31</td>\n",
              "      <td>17</td>\n",
              "      <td>40</td>\n",
              "      <td>0</td>\n",
              "    </tr>\n",
              "  </tbody>\n",
              "</table>\n",
              "</div>"
            ],
            "text/plain": [
              "   CustomerID     Sex  Usia  Gaji (juta)  Skor Belanja (1-100)  kluster\n",
              "0           1    Pria    19           15                    39        0\n",
              "1           2    Pria    21           15                    81        0\n",
              "2           3  Wanita    20           16                     6        0\n",
              "3           4  Wanita    23           16                    77        0\n",
              "4           5  Wanita    31           17                    40        0"
            ]
          },
          "metadata": {},
          "execution_count": 8
        }
      ]
    },
    {
      "cell_type": "code",
      "metadata": {
        "colab": {
          "base_uri": "https://localhost:8080/",
          "height": 295
        },
        "id": "QrSvHFieuwnP",
        "outputId": "cfb68552-e79a-480a-b07f-bf8333248398"
      },
      "source": [
        "fig, ax = plt.subplots()\n",
        "sct = ax.scatter(tsne[:,0],tsne[:,1], c = vlog128.kluster, marker = \"+\", alpha = 0.5)\n",
        "\n",
        "plt.title(\"Hasil Klustering T-SNE\")\n",
        "plt.xlabel(\"Usia\")\n",
        "plt.ylabel(\"Gaji (juta)\")\n",
        "plt.show()"
      ],
      "execution_count": null,
      "outputs": [
        {
          "output_type": "display_data",
          "data": {
            "image/png": "[encoded data removed]",
            "text/plain": [
              "<Figure size 432x288 with 1 Axes>"
            ]
          },
          "metadata": {
            "needs_background": "light"
          }
        }
      ]
    },
    {
      "cell_type": "code",
      "metadata": {
        "colab": {
          "base_uri": "https://localhost:8080/"
        },
        "id": "lCOAeTC3vIY5",
        "outputId": "c02a0a7d-d94f-4c94-9c8c-446c0af463eb"
      },
      "source": [
        "usia = input(\"Usia (thn): \")\n",
        "usia = int(usia)\n",
        "gaji = input(\"Gaji (juta): \")\n",
        "gaji = int(gaji)\n",
        "data = [usia,gaji]\n",
        "hasil = kmeans.predict([data])\n",
        "print(\"Prediksi Kluster (0-4): \", hasil)"
      ],
      "execution_count": null,
      "outputs": [
        {
          "output_type": "stream",
          "name": "stdout",
          "text": [
            "Usia (thn): 55\n",
            "Gaji (juta): 15\n",
            "Prediksi Kluster (0-4):  [0]\n"
          ]
        }
      ]
    },
    {
      "cell_type": "code",
      "metadata": {
        "colab": {
          "base_uri": "https://localhost:8080/",
          "height": 295
        },
        "id": "Yl8LeFY7vfoS",
        "outputId": "a111206e-feba-43e3-e7ed-ebbd8c50d3a4"
      },
      "source": [
        "data = np.array([data])\n",
        "fig, ax = plt.subplots()\n",
        "sct = ax.scatter(tsne[:,0],tsne[:,1], c = vlog128.kluster, marker = \"+\", alpha = 0.5)\n",
        "plt.title(\"Hasil Klustering Hierarchical Clustering\")\n",
        "plt.xlabel(\"Usia\")\n",
        "plt.ylabel(\"Gaji (juta)\")\n",
        "\n",
        "xx = np.append(X,data,axis=0)\n",
        "tsne2 = TSNE(n_components=n_kom, perplexity=perplex).fit_transform(xx)\n",
        "\n",
        "#plt.scatter(tsne2[-1,0],tsne2[-1,1], c = \"red\", s=100)\n",
        "plt.scatter(tsne2[:,0],tsne2[:,1], marker = \"o\", c = \"red\", alpha = 0.25)\n",
        "plt.show()\n",
        "\n",
        "#print(tsne2)"
      ],
      "execution_count": null,
      "outputs": [
        {
          "output_type": "display_data",
          "data": {
            "image/png": "[encoded data removed]",
            "text/plain": [
              "<Figure size 432x288 with 1 Axes>"
            ]
          },
          "metadata": {
            "needs_background": "light"
          }
        }
      ]
    }
  ]
}